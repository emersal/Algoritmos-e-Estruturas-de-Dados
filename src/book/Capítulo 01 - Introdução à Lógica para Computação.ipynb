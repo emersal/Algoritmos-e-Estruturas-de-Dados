{
  "cells": [
    {
      "cell_type": "markdown",
      "metadata": {
        "id": "fcbGPQLa3VqH"
      },
      "source": [
        "# Lógica para Computação: Capítulo 01 - Introdução à Lógica para Computação\n",
        "> *Autor: Davi Romero de Vasconcelos, daviromero@ufc.br, Universidade Federal do Ceará, Campus de Quixadá, Março de 2022*.\n",
        "> *(Última atualização 15/03/2022)*\n",
        "\n",
        "Este material foi preparado para a disciplina de Lógica para Computação com a finalidade de apresentar os conceitos básicos de Lógica, utilizando a Linguagem de Programação Python para auxiliar no ensino-aprendizagem da disciplina. Para cada seção é apresentado um link (no título da seção) com um vídeo explicando o conteúdo a ser abordado. Uma Playlist com todo o conteúdo de Lógica para Computação está disponível no [YouTube](https://youtube.com/playlist?list=PLfOnKvd6pFiq_BUI-llPhDeGR55P6nHfr)."
      ]
    },
    {
      "cell_type": "code",
      "execution_count": 2,
      "metadata": {
        "cellView": "form",
        "id": "KRbAmatIeYlx",
        "outputId": "4b60a4cb-29e0-4723-e76e-f796ea4750f5",
        "colab": {
          "base_uri": "https://localhost:8080/"
        }
      },
      "outputs": [
        {
          "output_type": "stream",
          "name": "stdout",
          "text": [
            "  Preparing metadata (setup.py) ... \u001b[?25l\u001b[?25hdone\n",
            "\u001b[2K   \u001b[90m━━━━━━━━━━━━━━━━━━━━━━━━━━━━━━━━━━━━━━━━\u001b[0m \u001b[32m117.8/117.8 kB\u001b[0m \u001b[31m4.3 MB/s\u001b[0m eta \u001b[36m0:00:00\u001b[0m\n",
            "\u001b[2K   \u001b[90m━━━━━━━━━━━━━━━━━━━━━━━━━━━━━━━━━━━━━━━━\u001b[0m \u001b[32m722.2/722.2 kB\u001b[0m \u001b[31m17.8 MB/s\u001b[0m eta \u001b[36m0:00:00\u001b[0m\n",
            "\u001b[2K   \u001b[90m━━━━━━━━━━━━━━━━━━━━━━━━━━━━━━━━━━━━━━━━\u001b[0m \u001b[32m1.6/1.6 MB\u001b[0m \u001b[31m49.2 MB/s\u001b[0m eta \u001b[36m0:00:00\u001b[0m\n",
            "\u001b[?25h  Building wheel for logic4py (setup.py) ... \u001b[?25l\u001b[?25hdone\n"
          ]
        }
      ],
      "source": [
        "#@title Implementação em Python dos conceitos sobre a Linguagem da Lógica Proposicional\n",
        "#@markdown Não é necessário conhecer o código aqui implementado ou mesmo ter um conhecimento profundo da linguagem Python. Basta acompanhar os exemplos e experimentar construir suas próprias demonstrações.\n",
        "#@markdown >*Execute esta célula (`ctrl+enter` ou clicando no botão ao lado) para que o ambiente seja carregado com as classes implementadas.*\n",
        "\n",
        "#!pip install logic4py -q\n",
        "!pip install git+https://github.com/daviromero/logic4py.git -q\n",
        "from logic4py.logic_gui import verify_reasoning_example"
      ]
    },
    {
      "cell_type": "markdown",
      "metadata": {
        "id": "3J8GKueYxOiy"
      },
      "source": [
        "# [Introdução à Lógica para Computação](https://youtu.be/mJwPvZmreVk)\n",
        "\n",
        "O que é lógica?\n",
        "- \"É o estudo (ou arte) do raciocínio\"\n",
        "- \"Estudo do Pensamento Correto e Verdadeiro\"\n",
        "- \"Tentativa de conceituação do Razoável\"\n",
        "- \"É o estudo da (boa) argumentação\"\n",
        "\n",
        "O que é lógica matemática?\n",
        "- \"É o estudo do tipo de raciocínio utilizado pelos matemáticos\"\n",
        "\n",
        "## Raciocínio\n",
        "\n",
        "\n",
        "Raciocinar consiste na construção de um encadeamento de entidades linguísticas que seguem a relação \"segue de\".\n",
        "\n",
        "As entidades linguísticas no contexto das lógicas que serão apresentadas são as **sentenças declarativas**, ou seja, entidades que expressam um pensamento completo.\n",
        "- Está chovendo\n",
        "- Todo homem é mortal\n",
        "- $2+2=4$\n",
        "- $5\\in\\{2,3,5,7\\}$\n",
        "- O Corinthians é o melhor time do Brasil\n",
        "\n",
        "Em geral, as sentenças interrogativas (\"Qual o pior time do Brasil?\") e imperativas (\"Tire nota DEZ!\") não são objetos de estudo da Lógica"
      ]
    },
    {
      "cell_type": "code",
      "execution_count": null,
      "metadata": {
        "cellView": "form",
        "id": "ADLroptI9F6R"
      },
      "outputs": [],
      "source": [
        "#@title Exemplo 1: Raciocínio em Lógica Proposicional\n",
        "#@markdown Execute essa célula para gerar o seu exemplo.\n",
        "verify_reasoning_example('q1_ex')"
      ]
    },
    {
      "cell_type": "code",
      "execution_count": null,
      "metadata": {
        "cellView": "form",
        "id": "OG19tiZF9zLN"
      },
      "outputs": [],
      "source": [
        "#@title Exemplo 2: Raciocínio em Lógica Proposicional\n",
        "#@markdown Execute essa célula para gerar o seu exemplo.\n",
        "verify_reasoning_example('q2_ex')"
      ]
    },
    {
      "cell_type": "code",
      "execution_count": null,
      "metadata": {
        "cellView": "form",
        "id": "6XHzBHuDeS-2"
      },
      "outputs": [],
      "source": [
        "#@title Exemplo 3: Raciocínio em Lógica Proposicional\n",
        "#@markdown Execute essa célula para gerar o seu exemplo.\n",
        "verify_reasoning_example('q3_ex')"
      ]
    },
    {
      "cell_type": "code",
      "execution_count": null,
      "metadata": {
        "cellView": "form",
        "id": "rCJLRxJNBhly"
      },
      "outputs": [],
      "source": [
        "#@title Exemplo 4: Raciocínio em Lógica Proposicional\n",
        "#@markdown Execute essa célula para gerar o seu exemplo.\n",
        "verify_reasoning_example('q4_ex')"
      ]
    },
    {
      "cell_type": "code",
      "execution_count": null,
      "metadata": {
        "cellView": "form",
        "id": "fd_wzTCCB4lZ"
      },
      "outputs": [],
      "source": [
        "#@title Exemplo 5: Raciocínio em Lógica Proposicional\n",
        "#@markdown Execute essa célula para gerar o seu exemplo.\n",
        "verify_reasoning_example('q5_ex')"
      ]
    },
    {
      "cell_type": "code",
      "execution_count": null,
      "metadata": {
        "cellView": "form",
        "id": "sW6wCnlL-Qn5"
      },
      "outputs": [],
      "source": [
        "#@title Exemplo 6: Raciocínio em Lógica Proposicional\n",
        "#@markdown Execute essa célula para gerar o seu exercício.\n",
        "verify_reasoning_example('q6_ex')"
      ]
    },
    {
      "cell_type": "markdown",
      "metadata": {
        "id": "Mq9Gh4kFVI8i"
      },
      "source": [
        "## Exercícios\n",
        "\n",
        "Os exercícios a seguir foram projetados para que você possa avaliar suas habilidades em raciocínio e argumentação. Use essa oportunidade de autoavaliação para entender seu ponto de partida na disciplina, quais conceitos de raciocínio em lógica já estão amadurecidos em seu pensamento e quais ainda precisam ser aprimorados."
      ]
    },
    {
      "cell_type": "markdown",
      "metadata": {
        "id": "xLqb2GSgwAA2"
      },
      "source": [
        "### Exercícios Lógica Proposicional"
      ]
    },
    {
      "cell_type": "code",
      "execution_count": null,
      "metadata": {
        "cellView": "form",
        "id": "xzUyAHQ-Wd2I"
      },
      "outputs": [],
      "source": [
        "#@title Exercício 1: Raciocínio em Lógica Proposicional\n",
        "#@markdown Execute essa célula para gerar o seu exercício.\n",
        "verify_reasoning_example('q1')"
      ]
    },
    {
      "cell_type": "code",
      "execution_count": null,
      "metadata": {
        "cellView": "form",
        "id": "HDBNgPRaWz28"
      },
      "outputs": [],
      "source": [
        "#@title Exercício 2: Raciocínio em Lógica Proposicional\n",
        "#@markdown Execute essa célula para gerar o seu exercício.\n",
        "verify_reasoning_example('q2')"
      ]
    },
    {
      "cell_type": "code",
      "execution_count": null,
      "metadata": {
        "cellView": "form",
        "id": "Tuv-M99AW7_G"
      },
      "outputs": [],
      "source": [
        "#@title Exercício 3: Raciocínio em Lógica Proposicional\n",
        "#@markdown Execute essa célula para gerar o seu exercício.\n",
        "verify_reasoning_example('q3')"
      ]
    },
    {
      "cell_type": "code",
      "execution_count": null,
      "metadata": {
        "cellView": "form",
        "id": "D6GbvcbHYupJ"
      },
      "outputs": [],
      "source": [
        "#@title Exercício 4: Raciocínio em Lógica Proposicional\n",
        "#@markdown Execute essa célula para gerar o seu exercício.\n",
        "verify_reasoning_example('q4')"
      ]
    },
    {
      "cell_type": "code",
      "execution_count": null,
      "metadata": {
        "cellView": "form",
        "id": "dnAuiOTwZPBV"
      },
      "outputs": [],
      "source": [
        "#@title Exercício 5: Raciocínio em Lógica Proposicional\n",
        "#@markdown Execute essa célula para gerar o seu exercício.\n",
        "verify_reasoning_example('q5')"
      ]
    },
    {
      "cell_type": "code",
      "execution_count": null,
      "metadata": {
        "cellView": "form",
        "id": "vdEJpeAKX7OF"
      },
      "outputs": [],
      "source": [
        "#@title Exercício 6: Raciocínio em Lógica Proposicional\n",
        "#@markdown Execute essa célula para gerar o seu exercício.\n",
        "verify_reasoning_example('q6')"
      ]
    },
    {
      "cell_type": "code",
      "execution_count": null,
      "metadata": {
        "cellView": "form",
        "id": "CB2rPSopatvn"
      },
      "outputs": [],
      "source": [
        "#@title Exercício 7: Raciocínio em Lógica Proposicional\n",
        "#@markdown Execute essa célula para gerar o seu exercício.\n",
        "verify_reasoning_example('q7')"
      ]
    },
    {
      "cell_type": "code",
      "execution_count": 3,
      "metadata": {
        "cellView": "form",
        "colab": {
          "base_uri": "https://localhost:8080/",
          "height": 313,
          "referenced_widgets": [
            "2d9f39f303404a739c15d19dd3bba05b",
            "0e42e02bf977419d804aa4d2e957af7a",
            "bbf9425dba4c4d48a1b67fbec3216be7",
            "ea6b9a3254264a91b2f1dbc5f08bf8a1",
            "7cf58323650e411b964a98acdae1360e",
            "bcf229189ba04121954957ba261a3a92",
            "bdc3f8984c7b47849862727c9a3291a1",
            "6ed4cfc4f1874bba9e5bdaf0ba71d69d",
            "8362dc513d014133bd77e02d0da1ef34",
            "bd9e633973f34601b04c187e9634d108",
            "77e1cfbc07234446bd1b43c234a4cfae",
            "af3783f86f1147be93807ef26acf604b"
          ]
        },
        "id": "XZNKJl34dddV",
        "outputId": "a0e588fc-cd8f-4de3-9d59-a366f2b72316"
      },
      "outputs": [
        {
          "output_type": "display_data",
          "data": {
            "text/plain": [
              "<IPython.core.display.Markdown object>"
            ],
            "text/markdown": "<b>Considere as seguintes afirmações:</b>\n1. Se o dólar sobe ou o petróleo sobe, então aumenta a inflação.\n1. O dólar não subiu.\n1. O petróleo não subiu."
          },
          "metadata": {}
        },
        {
          "output_type": "display_data",
          "data": {
            "text/plain": [
              "<IPython.core.display.Markdown object>"
            ],
            "text/markdown": "<b>Podemos concluir que a afirmação abaixo segue logicamente das afirmações acima?"
          },
          "metadata": {}
        },
        {
          "output_type": "display_data",
          "data": {
            "text/plain": [
              "<IPython.core.display.Markdown object>"
            ],
            "text/markdown": "\n4. Aumentou a inflação."
          },
          "metadata": {}
        },
        {
          "output_type": "display_data",
          "data": {
            "text/plain": [
              "HBox(children=(RadioButtons(description='Resposta:', options=('Sim', 'Não'), value=None), HBox(children=(Butto…"
            ],
            "application/vnd.jupyter.widget-view+json": {
              "version_major": 2,
              "version_minor": 0,
              "model_id": "2d9f39f303404a739c15d19dd3bba05b"
            }
          },
          "metadata": {}
        },
        {
          "output_type": "display_data",
          "data": {
            "text/plain": [
              "Output()"
            ],
            "application/vnd.jupyter.widget-view+json": {
              "version_major": 2,
              "version_minor": 0,
              "model_id": "77e1cfbc07234446bd1b43c234a4cfae"
            }
          },
          "metadata": {}
        }
      ],
      "source": [
        "#@title Exercício 8: Raciocínio em Lógica Proposicional\n",
        "#@markdown Execute essa célula para gerar o seu exercício.\n",
        "verify_reasoning_example('q8')"
      ]
    },
    {
      "cell_type": "code",
      "source": [],
      "metadata": {
        "id": "borYZoIzwJaY"
      },
      "execution_count": null,
      "outputs": []
    },
    {
      "cell_type": "code",
      "execution_count": null,
      "metadata": {
        "cellView": "form",
        "id": "V7OH4mVrd1MX"
      },
      "outputs": [],
      "source": [
        "#@title Exercício 9: Raciocínio em Lógica Proposicional\n",
        "#@markdown Execute essa célula para gerar o seu exercício.\n",
        "verify_reasoning_example('q9')"
      ]
    },
    {
      "cell_type": "code",
      "execution_count": null,
      "metadata": {
        "cellView": "form",
        "id": "V7QAv0a1VNYX"
      },
      "outputs": [],
      "source": [
        "#@title Exercício 10: Raciocínio em Lógica Proposicional\n",
        "#@markdown Execute essa célula para gerar o seu exercício.\n",
        "verify_reasoning_example('q10')"
      ]
    },
    {
      "cell_type": "code",
      "execution_count": null,
      "metadata": {
        "cellView": "form",
        "id": "URM5lIu6Vz8P"
      },
      "outputs": [],
      "source": [
        "#@title Exercício 11: Raciocínio em Lógica Proposicional\n",
        "#@markdown Execute essa célula para gerar o seu exercício.\n",
        "verify_reasoning_example('q11')"
      ]
    },
    {
      "cell_type": "code",
      "execution_count": null,
      "metadata": {
        "cellView": "form",
        "id": "TSt4O3Y3WFbe"
      },
      "outputs": [],
      "source": [
        "#@title Exercício 12: Raciocínio em Lógica Proposicional\n",
        "#@markdown Execute essa célula para gerar o seu exercício.\n",
        "verify_reasoning_example('q12')"
      ]
    },
    {
      "cell_type": "markdown",
      "metadata": {
        "id": "1Aiz4s_MwAA4"
      },
      "source": [
        "### Exercícios Lógica de Primeira-Ordem"
      ]
    },
    {
      "cell_type": "code",
      "execution_count": null,
      "metadata": {
        "cellView": "form",
        "id": "Rw8uC77nwAA4"
      },
      "outputs": [],
      "source": [
        "#@title Exercício 1: Raciocínio em Lógica de Primeira-Ordem\n",
        "#@markdown Execute essa célula para gerar o seu exemplo.\n",
        "verify_reasoning_example('q1_fo')"
      ]
    },
    {
      "cell_type": "code",
      "execution_count": null,
      "metadata": {
        "cellView": "form",
        "id": "I2C7NfqpwAA4"
      },
      "outputs": [],
      "source": [
        "#@title Exercício 2: Raciocínio em Lógica de Primeira-Ordem\n",
        "#@markdown Execute essa célula para gerar o seu exemplo.\n",
        "verify_reasoning_example('q2_fo')"
      ]
    },
    {
      "cell_type": "code",
      "execution_count": null,
      "metadata": {
        "cellView": "form",
        "id": "l8FYWGjlwAA4"
      },
      "outputs": [],
      "source": [
        "#@title Exercício 3: Raciocínio em Lógica de Primeira-Ordem\n",
        "#@markdown Execute essa célula para gerar o seu exemplo.\n",
        "verify_reasoning_example('q3_fo')"
      ]
    },
    {
      "cell_type": "code",
      "execution_count": null,
      "metadata": {
        "cellView": "form",
        "id": "aFv3q3WowAA4"
      },
      "outputs": [],
      "source": [
        "#@title Exercício 4: Raciocínio em Lógica de Primeira-Ordem\n",
        "#@markdown Execute essa célula para gerar o seu exemplo.\n",
        "verify_reasoning_example('q4_fo')"
      ]
    },
    {
      "cell_type": "code",
      "execution_count": null,
      "metadata": {
        "cellView": "form",
        "id": "SargxfnEwAA4"
      },
      "outputs": [],
      "source": [
        "#@title Exercício 5: Raciocínio em Lógica de Primeira-Ordem\n",
        "#@markdown Execute essa célula para gerar o seu exemplo.\n",
        "verify_reasoning_example('q5_fo')"
      ]
    },
    {
      "cell_type": "code",
      "execution_count": null,
      "metadata": {
        "cellView": "form",
        "id": "h_VG9UQ_wAA4"
      },
      "outputs": [],
      "source": [
        "#@title Exercício 6: Raciocínio em Lógica de Primeira-Ordem\n",
        "#@markdown Execute essa célula para gerar o seu exemplo.\n",
        "verify_reasoning_example('q6_fo')"
      ]
    },
    {
      "cell_type": "code",
      "execution_count": null,
      "metadata": {
        "cellView": "form",
        "id": "M90u2H-CwAA4"
      },
      "outputs": [],
      "source": [
        "#@title Exercício 7: Raciocínio em Lógica de Primeira-Ordem\n",
        "#@markdown Execute essa célula para gerar o seu exemplo.\n",
        "verify_reasoning_example('q7_fo')"
      ]
    },
    {
      "cell_type": "code",
      "execution_count": null,
      "metadata": {
        "cellView": "form",
        "id": "pyh8SuaLwAA5"
      },
      "outputs": [],
      "source": [
        "#@title Exercício 8: Raciocínio em Lógica de Primeira-Ordem\n",
        "#@markdown Execute essa célula para gerar o seu exemplo.\n",
        "verify_reasoning_example('q8_fo')"
      ]
    },
    {
      "cell_type": "code",
      "execution_count": null,
      "metadata": {
        "cellView": "form",
        "id": "FwZDZ_VgwAA5"
      },
      "outputs": [],
      "source": [
        "#@title Exercício 9: Raciocínio em Lógica de Primeira-Ordem\n",
        "#@markdown Execute essa célula para gerar o seu exemplo.\n",
        "verify_reasoning_example('q9_fo')"
      ]
    },
    {
      "cell_type": "code",
      "execution_count": null,
      "metadata": {
        "cellView": "form",
        "id": "M_HO37tBwAA5"
      },
      "outputs": [],
      "source": [
        "#@title Exercício 10: Raciocínio em Lógica de Primeira-Ordem\n",
        "#@markdown Execute essa célula para gerar o seu exemplo.\n",
        "verify_reasoning_example('q10_fo')"
      ]
    },
    {
      "cell_type": "code",
      "execution_count": null,
      "metadata": {
        "cellView": "form",
        "id": "lFFQgXUXwAA5"
      },
      "outputs": [],
      "source": [
        "#@title Exercício 11: Raciocínio em Lógica de Primeira-Ordem\n",
        "#@markdown Execute essa célula para gerar o seu exemplo.\n",
        "verify_reasoning_example('q11_fo')"
      ]
    },
    {
      "cell_type": "code",
      "execution_count": null,
      "metadata": {
        "cellView": "form",
        "id": "9exw38XnwAA5"
      },
      "outputs": [],
      "source": [
        "#@title Exercício 12: Raciocínio em Lógica de Primeira-Ordem\n",
        "#@markdown Execute essa célula para gerar o seu exemplo.\n",
        "verify_reasoning_example('q12_fo')"
      ]
    },
    {
      "cell_type": "markdown",
      "metadata": {
        "id": "AM_n6vojwAA5"
      },
      "source": [
        "<!--NAVIGATION-->\n",
        "[Índice](./Index.ipynb) | [A Linguagem da Lógica Proposicional >](./Cap%C3%ADtulo%2002%20-%20A%20Linguagem%20da%20L%C3%B3gica%20Proposicional.ipynb)\n"
      ]
    }
  ],
  "metadata": {
    "colab": {
      "name": "Capítulo 01 - Introdução à Lógica para Computação.ipynb",
      "provenance": []
    },
    "kernelspec": {
      "display_name": "base",
      "language": "python",
      "name": "python3"
    },
    "language_info": {
      "codemirror_mode": {
        "name": "ipython",
        "version": 3
      },
      "file_extension": ".py",
      "mimetype": "text/x-python",
      "name": "python",
      "nbconvert_exporter": "python",
      "pygments_lexer": "ipython3",
      "version": "3.9.7"
    },
    "vscode": {
      "interpreter": {
        "hash": "40d3a090f54c6569ab1632332b64b2c03c39dcf918b08424e98f38b5ae0af88f"
      }
    },
    "widgets": {
      "application/vnd.jupyter.widget-state+json": {
        "2d9f39f303404a739c15d19dd3bba05b": {
          "model_module": "@jupyter-widgets/controls",
          "model_name": "HBoxModel",
          "model_module_version": "1.5.0",
          "state": {
            "_dom_classes": [],
            "_model_module": "@jupyter-widgets/controls",
            "_model_module_version": "1.5.0",
            "_model_name": "HBoxModel",
            "_view_count": null,
            "_view_module": "@jupyter-widgets/controls",
            "_view_module_version": "1.5.0",
            "_view_name": "HBoxView",
            "box_style": "",
            "children": [
              "IPY_MODEL_0e42e02bf977419d804aa4d2e957af7a",
              "IPY_MODEL_bbf9425dba4c4d48a1b67fbec3216be7"
            ],
            "layout": "IPY_MODEL_ea6b9a3254264a91b2f1dbc5f08bf8a1"
          }
        },
        "0e42e02bf977419d804aa4d2e957af7a": {
          "model_module": "@jupyter-widgets/controls",
          "model_name": "RadioButtonsModel",
          "model_module_version": "1.5.0",
          "state": {
            "_dom_classes": [],
            "_model_module": "@jupyter-widgets/controls",
            "_model_module_version": "1.5.0",
            "_model_name": "RadioButtonsModel",
            "_options_labels": [
              "Sim",
              "Não"
            ],
            "_view_count": null,
            "_view_module": "@jupyter-widgets/controls",
            "_view_module_version": "1.5.0",
            "_view_name": "RadioButtonsView",
            "description": "Resposta:",
            "description_tooltip": null,
            "disabled": false,
            "index": null,
            "layout": "IPY_MODEL_7cf58323650e411b964a98acdae1360e",
            "style": "IPY_MODEL_bcf229189ba04121954957ba261a3a92"
          }
        },
        "bbf9425dba4c4d48a1b67fbec3216be7": {
          "model_module": "@jupyter-widgets/controls",
          "model_name": "HBoxModel",
          "model_module_version": "1.5.0",
          "state": {
            "_dom_classes": [],
            "_model_module": "@jupyter-widgets/controls",
            "_model_module_version": "1.5.0",
            "_model_name": "HBoxModel",
            "_view_count": null,
            "_view_module": "@jupyter-widgets/controls",
            "_view_module_version": "1.5.0",
            "_view_name": "HBoxView",
            "box_style": "",
            "children": [
              "IPY_MODEL_bdc3f8984c7b47849862727c9a3291a1"
            ],
            "layout": "IPY_MODEL_6ed4cfc4f1874bba9e5bdaf0ba71d69d"
          }
        },
        "ea6b9a3254264a91b2f1dbc5f08bf8a1": {
          "model_module": "@jupyter-widgets/base",
          "model_name": "LayoutModel",
          "model_module_version": "1.2.0",
          "state": {
            "_model_module": "@jupyter-widgets/base",
            "_model_module_version": "1.2.0",
            "_model_name": "LayoutModel",
            "_view_count": null,
            "_view_module": "@jupyter-widgets/base",
            "_view_module_version": "1.2.0",
            "_view_name": "LayoutView",
            "align_content": null,
            "align_items": null,
            "align_self": null,
            "border": null,
            "bottom": null,
            "display": null,
            "flex": null,
            "flex_flow": null,
            "grid_area": null,
            "grid_auto_columns": null,
            "grid_auto_flow": null,
            "grid_auto_rows": null,
            "grid_column": null,
            "grid_gap": null,
            "grid_row": null,
            "grid_template_areas": null,
            "grid_template_columns": null,
            "grid_template_rows": null,
            "height": null,
            "justify_content": null,
            "justify_items": null,
            "left": null,
            "margin": null,
            "max_height": null,
            "max_width": null,
            "min_height": null,
            "min_width": null,
            "object_fit": null,
            "object_position": null,
            "order": null,
            "overflow": null,
            "overflow_x": null,
            "overflow_y": null,
            "padding": null,
            "right": null,
            "top": null,
            "visibility": null,
            "width": null
          }
        },
        "7cf58323650e411b964a98acdae1360e": {
          "model_module": "@jupyter-widgets/base",
          "model_name": "LayoutModel",
          "model_module_version": "1.2.0",
          "state": {
            "_model_module": "@jupyter-widgets/base",
            "_model_module_version": "1.2.0",
            "_model_name": "LayoutModel",
            "_view_count": null,
            "_view_module": "@jupyter-widgets/base",
            "_view_module_version": "1.2.0",
            "_view_name": "LayoutView",
            "align_content": null,
            "align_items": null,
            "align_self": null,
            "border": null,
            "bottom": null,
            "display": null,
            "flex": null,
            "flex_flow": null,
            "grid_area": null,
            "grid_auto_columns": null,
            "grid_auto_flow": null,
            "grid_auto_rows": null,
            "grid_column": null,
            "grid_gap": null,
            "grid_row": null,
            "grid_template_areas": null,
            "grid_template_columns": null,
            "grid_template_rows": null,
            "height": null,
            "justify_content": null,
            "justify_items": null,
            "left": null,
            "margin": null,
            "max_height": null,
            "max_width": null,
            "min_height": null,
            "min_width": null,
            "object_fit": null,
            "object_position": null,
            "order": null,
            "overflow": null,
            "overflow_x": null,
            "overflow_y": null,
            "padding": null,
            "right": null,
            "top": null,
            "visibility": null,
            "width": null
          }
        },
        "bcf229189ba04121954957ba261a3a92": {
          "model_module": "@jupyter-widgets/controls",
          "model_name": "DescriptionStyleModel",
          "model_module_version": "1.5.0",
          "state": {
            "_model_module": "@jupyter-widgets/controls",
            "_model_module_version": "1.5.0",
            "_model_name": "DescriptionStyleModel",
            "_view_count": null,
            "_view_module": "@jupyter-widgets/base",
            "_view_module_version": "1.2.0",
            "_view_name": "StyleView",
            "description_width": ""
          }
        },
        "bdc3f8984c7b47849862727c9a3291a1": {
          "model_module": "@jupyter-widgets/controls",
          "model_name": "ButtonModel",
          "model_module_version": "1.5.0",
          "state": {
            "_dom_classes": [],
            "_model_module": "@jupyter-widgets/controls",
            "_model_module_version": "1.5.0",
            "_model_name": "ButtonModel",
            "_view_count": null,
            "_view_module": "@jupyter-widgets/controls",
            "_view_module_version": "1.5.0",
            "_view_name": "ButtonView",
            "button_style": "",
            "description": "Verificar",
            "disabled": false,
            "icon": "",
            "layout": "IPY_MODEL_8362dc513d014133bd77e02d0da1ef34",
            "style": "IPY_MODEL_bd9e633973f34601b04c187e9634d108",
            "tooltip": ""
          }
        },
        "6ed4cfc4f1874bba9e5bdaf0ba71d69d": {
          "model_module": "@jupyter-widgets/base",
          "model_name": "LayoutModel",
          "model_module_version": "1.2.0",
          "state": {
            "_model_module": "@jupyter-widgets/base",
            "_model_module_version": "1.2.0",
            "_model_name": "LayoutModel",
            "_view_count": null,
            "_view_module": "@jupyter-widgets/base",
            "_view_module_version": "1.2.0",
            "_view_name": "LayoutView",
            "align_content": null,
            "align_items": null,
            "align_self": null,
            "border": null,
            "bottom": null,
            "display": null,
            "flex": null,
            "flex_flow": null,
            "grid_area": null,
            "grid_auto_columns": null,
            "grid_auto_flow": null,
            "grid_auto_rows": null,
            "grid_column": null,
            "grid_gap": null,
            "grid_row": null,
            "grid_template_areas": null,
            "grid_template_columns": null,
            "grid_template_rows": null,
            "height": null,
            "justify_content": null,
            "justify_items": null,
            "left": null,
            "margin": null,
            "max_height": null,
            "max_width": null,
            "min_height": null,
            "min_width": null,
            "object_fit": null,
            "object_position": null,
            "order": null,
            "overflow": null,
            "overflow_x": null,
            "overflow_y": null,
            "padding": null,
            "right": null,
            "top": null,
            "visibility": null,
            "width": null
          }
        },
        "8362dc513d014133bd77e02d0da1ef34": {
          "model_module": "@jupyter-widgets/base",
          "model_name": "LayoutModel",
          "model_module_version": "1.2.0",
          "state": {
            "_model_module": "@jupyter-widgets/base",
            "_model_module_version": "1.2.0",
            "_model_name": "LayoutModel",
            "_view_count": null,
            "_view_module": "@jupyter-widgets/base",
            "_view_module_version": "1.2.0",
            "_view_name": "LayoutView",
            "align_content": null,
            "align_items": null,
            "align_self": null,
            "border": null,
            "bottom": null,
            "display": null,
            "flex": null,
            "flex_flow": null,
            "grid_area": null,
            "grid_auto_columns": null,
            "grid_auto_flow": null,
            "grid_auto_rows": null,
            "grid_column": null,
            "grid_gap": null,
            "grid_row": null,
            "grid_template_areas": null,
            "grid_template_columns": null,
            "grid_template_rows": null,
            "height": null,
            "justify_content": null,
            "justify_items": null,
            "left": null,
            "margin": null,
            "max_height": null,
            "max_width": null,
            "min_height": null,
            "min_width": null,
            "object_fit": null,
            "object_position": null,
            "order": null,
            "overflow": null,
            "overflow_x": null,
            "overflow_y": null,
            "padding": null,
            "right": null,
            "top": null,
            "visibility": null,
            "width": null
          }
        },
        "bd9e633973f34601b04c187e9634d108": {
          "model_module": "@jupyter-widgets/controls",
          "model_name": "ButtonStyleModel",
          "model_module_version": "1.5.0",
          "state": {
            "_model_module": "@jupyter-widgets/controls",
            "_model_module_version": "1.5.0",
            "_model_name": "ButtonStyleModel",
            "_view_count": null,
            "_view_module": "@jupyter-widgets/base",
            "_view_module_version": "1.2.0",
            "_view_name": "StyleView",
            "button_color": null,
            "font_weight": ""
          }
        },
        "77e1cfbc07234446bd1b43c234a4cfae": {
          "model_module": "@jupyter-widgets/output",
          "model_name": "OutputModel",
          "model_module_version": "1.0.0",
          "state": {
            "_dom_classes": [],
            "_model_module": "@jupyter-widgets/output",
            "_model_module_version": "1.0.0",
            "_model_name": "OutputModel",
            "_view_count": null,
            "_view_module": "@jupyter-widgets/output",
            "_view_module_version": "1.0.0",
            "_view_name": "OutputView",
            "layout": "IPY_MODEL_af3783f86f1147be93807ef26acf604b",
            "msg_id": "",
            "outputs": [
              {
                "output_type": "display_data",
                "data": {
                  "text/plain": "<IPython.core.display.HTML object>",
                  "text/html": "<b><font color=\"red\">Escolha uma das alternativas! Tente novamente!</font>"
                },
                "metadata": {}
              }
            ]
          }
        },
        "af3783f86f1147be93807ef26acf604b": {
          "model_module": "@jupyter-widgets/base",
          "model_name": "LayoutModel",
          "model_module_version": "1.2.0",
          "state": {
            "_model_module": "@jupyter-widgets/base",
            "_model_module_version": "1.2.0",
            "_model_name": "LayoutModel",
            "_view_count": null,
            "_view_module": "@jupyter-widgets/base",
            "_view_module_version": "1.2.0",
            "_view_name": "LayoutView",
            "align_content": null,
            "align_items": null,
            "align_self": null,
            "border": null,
            "bottom": null,
            "display": null,
            "flex": null,
            "flex_flow": null,
            "grid_area": null,
            "grid_auto_columns": null,
            "grid_auto_flow": null,
            "grid_auto_rows": null,
            "grid_column": null,
            "grid_gap": null,
            "grid_row": null,
            "grid_template_areas": null,
            "grid_template_columns": null,
            "grid_template_rows": null,
            "height": null,
            "justify_content": null,
            "justify_items": null,
            "left": null,
            "margin": null,
            "max_height": null,
            "max_width": null,
            "min_height": null,
            "min_width": null,
            "object_fit": null,
            "object_position": null,
            "order": null,
            "overflow": null,
            "overflow_x": null,
            "overflow_y": null,
            "padding": null,
            "right": null,
            "top": null,
            "visibility": null,
            "width": null
          }
        }
      }
    }
  },
  "nbformat": 4,
  "nbformat_minor": 0
}